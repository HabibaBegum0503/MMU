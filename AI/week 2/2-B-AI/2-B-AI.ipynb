{
 "cells": [
  {
   "cell_type": "code",
   "execution_count": null,
   "id": "61e7e165",
   "metadata": {},
   "outputs": [],
   "source": [
    "# mount your Google Drive\n",
    "from google.colab import drive\n",
    "drive.mount('/content/drive')"
   ]
  },
  {
   "cell_type": "code",
   "execution_count": null,
   "id": "14e532b0",
   "metadata": {},
   "outputs": [],
   "source": [
    "# change current working directory\n",
    "import os\n",
    "os.chdir('/content/drive/MyDrive/AI/2-B-AI/')"
   ]
  },
  {
   "cell_type": "code",
   "execution_count": null,
   "id": "25b4bdca",
   "metadata": {},
   "outputs": [],
   "source": [
    "# check we can see the dataset\n",
    "os.path.isfile('iris.csv')"
   ]
  },
  {
   "cell_type": "code",
   "execution_count": null,
   "id": "31b87135",
   "metadata": {},
   "outputs": [],
   "source": [
    "# data preparation steps\n",
    "\n",
    "# Importing the packages we use\n",
    "import pandas as pd\n",
    "import numpy as np\n",
    "from sklearn.neighbors import KNeighborsClassifier\n",
    "import matplotlib.pyplot as plt\n",
    "\n",
    "# Loading all the observations\n",
    "observations = pd.read_csv('iris.csv')\n",
    "\n",
    "# Shuffling all the observations\n",
    "observations_shuffled = observations.sample(frac=1, random_state=99)\n",
    "\n",
    "# Setting the fraction of observations we will use for testing\n",
    "testing_fraction = 0.25\n",
    "split_index = int(observations_shuffled.shape[0] * testing_fraction)\n",
    "\n",
    "# Splitting into testing observations and training observations (\"horizontal split\")\n",
    "observations_test = observations_shuffled.iloc[:split_index]\n",
    "observations_train = observations_shuffled.iloc[split_index:]\n",
    "\n",
    "# Splitting into testing examples and testing labels (\"vertical split\")\n",
    "test_examples = observations_test.drop(columns='species').to_numpy()\n",
    "test_labels = observations_test['species'].to_numpy()\n",
    "\n",
    "# Splitting into training examples and training labels (\"vertical split\")\n",
    "train_examples = observations_train.drop(columns='species').to_numpy()\n",
    "train_labels = observations_train['species'].to_numpy()\n",
    "\n",
    "# model training and model evaluation steps\n",
    "\n",
    "#\n",
    "model = KNeighborsClassifier(n_neighbors=5)\n",
    "\n",
    "#\n",
    "model.fit(train_examples, train_labels)\n",
    "\n",
    "#\n",
    "predictions = model.predict(test_examples)\n",
    "\n",
    "#\n",
    "correct_predictions = sum(predictions == test_labels)\n",
    "#\n",
    "accuracy = correct_predictions / len(test_labels)\n",
    "#\n",
    "print(\"Accuracy:\", accuracy, \"(or\", round(accuracy*100, 1), \"%)\")\n",
    "\n",
    "# \n",
    "plt.figure()\n",
    "plt.plot([5], [accuracy], marker='o', linestyle='-')\n",
    "plt.title('Accuracy vs. k-value for k-NN')\n",
    "plt.xlabel('k-value')\n",
    "plt.ylabel('Accuracy')\n",
    "plt.grid(True)\n",
    "plt.show()"
   ]
  }
 ],
 "metadata": {
  "kernelspec": {
   "display_name": "Python 3 (ipykernel)",
   "language": "python",
   "name": "python3"
  },
  "language_info": {
   "codemirror_mode": {
    "name": "ipython",
    "version": 3
   },
   "file_extension": ".py",
   "mimetype": "text/x-python",
   "name": "python",
   "nbconvert_exporter": "python",
   "pygments_lexer": "ipython3",
   "version": "3.11.4"
  }
 },
 "nbformat": 4,
 "nbformat_minor": 5
}
